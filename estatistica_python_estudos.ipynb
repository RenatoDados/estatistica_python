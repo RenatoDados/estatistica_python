{
 "cells": [
  {
   "cell_type": "markdown",
   "metadata": {},
   "source": [
    "## Estudo de estatística com python\n"
   ]
  },
  {
   "cell_type": "code",
   "execution_count": 16,
   "metadata": {},
   "outputs": [],
   "source": [
    "# bibliotecas \n",
    "import matplotlib.pyplot as plt\n",
    "import numpy as np"
   ]
  },
  {
   "cell_type": "code",
   "execution_count": 2,
   "metadata": {},
   "outputs": [],
   "source": [
    "lista=[223,34,56,78,90,100]"
   ]
  },
  {
   "cell_type": "code",
   "execution_count": 3,
   "metadata": {},
   "outputs": [
    {
     "name": "stdout",
     "output_type": "stream",
     "text": [
      "[223, 34, 56, 78, 90, 100]\n"
     ]
    }
   ],
   "source": [
    "print(lista)"
   ]
  },
  {
   "cell_type": "code",
   "execution_count": 9,
   "metadata": {},
   "outputs": [
    {
     "name": "stdout",
     "output_type": "stream",
     "text": [
      "O cálculo da média é :96.83\n"
     ]
    }
   ],
   "source": [
    "media=sum(lista)/len(lista)\n",
    "print(f'O cálculo da média é :{round(media,2)}')"
   ]
  },
  {
   "cell_type": "code",
   "execution_count": 15,
   "metadata": {},
   "outputs": [
    {
     "name": "stdout",
     "output_type": "stream",
     "text": [
      "A quantidade de elemento da lista é :6\n",
      "O valor máximo da lista é 223\n",
      "O valor minimo da lista é 34\n"
     ]
    }
   ],
   "source": [
    "qtde_elemento=len(lista)\n",
    "maximo_valor=max(lista)\n",
    "minimo_valor=min(lista)\n",
    "\n",
    "print(f\"A quantidade de elemento da lista é :{qtde_elemento}\")\n",
    "print(f\"O valor máximo da lista é {maximo_valor}\")\n",
    "print(f\"O valor minimo da lista é {minimo_valor}\")"
   ]
  },
  {
   "cell_type": "code",
   "execution_count": 13,
   "metadata": {},
   "outputs": [
    {
     "name": "stdout",
     "output_type": "stream",
     "text": [
      "Lista normalizada : [2.3, 0.35, 0.58, 0.81, 0.93, 1.03]\n"
     ]
    }
   ],
   "source": [
    "# Lista normalizada pela média:\n",
    "\n",
    "lista_normalizada=[]\n",
    "\n",
    "for valor in lista:\n",
    "    normalizada=valor/media\n",
    "    lista_normalizada.append(round(normalizada,2))\n",
    "\n",
    "\n",
    "print(f'Lista normalizada : {lista_normalizada}')"
   ]
  },
  {
   "cell_type": "markdown",
   "metadata": {},
   "source": [
    "## Boxplot e Histograma"
   ]
  },
  {
   "cell_type": "code",
   "execution_count": 26,
   "metadata": {},
   "outputs": [
    {
     "data": {
      "image/png": "[encoded data removed]",
      "text/plain": [
       "<Figure size 720x360 with 2 Axes>"
      ]
     },
     "metadata": {
      "needs_background": "light"
     },
     "output_type": "display_data"
    }
   ],
   "source": [
    "# Criar figura com subplots\n",
    "fig, axs = plt.subplots(1, 2, figsize=(10, 5))\n",
    "\n",
    "# Boxplot\n",
    "axs[0].boxplot(lista)\n",
    "axs[0].set_title('Boxplot')\n",
    "axs[0].set_ylabel('Valores')\n",
    "\n",
    "# Histograma\n",
    "axs[1].hist(lista, bins=5, edgecolor='black')\n",
    "axs[1].set_title('Histograma')\n",
    "axs[1].set_xlabel('Valores')\n",
    "axs[1].set_ylabel('Frequência')\n",
    "\n",
    "plt.show()\n",
    "\n"
   ]
  }
 ],
 "metadata": {
  "kernelspec": {
   "display_name": "base",
   "language": "python",
   "name": "python3"
  },
  "language_info": {
   "codemirror_mode": {
    "name": "ipython",
    "version": 3
   },
   "file_extension": ".py",
   "mimetype": "text/x-python",
   "name": "python",
   "nbconvert_exporter": "python",
   "pygments_lexer": "ipython3",
   "version": "3.9.7"
  }
 },
 "nbformat": 4,
 "nbformat_minor": 2
}
